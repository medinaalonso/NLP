{
  "nbformat": 4,
  "nbformat_minor": 0,
  "metadata": {
    "colab": {
      "name": "IMDB RNN.ipynb",
      "provenance": [],
      "collapsed_sections": [],
      "toc_visible": true,
      "mount_file_id": "1AHkRwBGQepV9ovdG0fypU3QeZtrbuqID",
      "authorship_tag": "ABX9TyMeOdnCyEwp1ekbYV6vokrw",
      "include_colab_link": true
    },
    "kernelspec": {
      "name": "python3",
      "display_name": "Python 3"
    }
  },
  "cells": [
    {
      "cell_type": "markdown",
      "metadata": {
        "id": "view-in-github",
        "colab_type": "text"
      },
      "source": [
        "<a href=\"https://colab.research.google.com/github/medinaalonso/NLP/blob/master/IMDB_RNN.ipynb\" target=\"_parent\"><img src=\"https://colab.research.google.com/assets/colab-badge.svg\" alt=\"Open In Colab\"/></a>"
      ]
    },
    {
      "cell_type": "markdown",
      "metadata": {
        "id": "yYcqXGaYsLu3",
        "colab_type": "text"
      },
      "source": [
        "# *Importing data from KAGGLE*"
      ]
    },
    {
      "cell_type": "markdown",
      "metadata": {
        "id": "JtbkLYXasQFQ",
        "colab_type": "text"
      },
      "source": [
        ""
      ]
    },
    {
      "cell_type": "code",
      "metadata": {
        "id": "hoenhSwkompc",
        "colab_type": "code",
        "colab": {}
      },
      "source": [
        "! pip install -q kaggle"
      ],
      "execution_count": null,
      "outputs": []
    },
    {
      "cell_type": "code",
      "metadata": {
        "id": "gTFXYhWDqGZh",
        "colab_type": "code",
        "colab": {
          "resources": {
            "http://localhost:8080/nbextensions/google.colab/files.js": {
              "data": "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",
              "ok": true,
              "headers": [
                [
                  "content-type",
                  "application/javascript"
                ]
              ],
              "status": 200,
              "status_text": ""
            }
          },
          "base_uri": "https://localhost:8080/",
          "height": 89
        },
        "outputId": "28566c01-2322-4eb4-f7be-1243fd9ded13"
      },
      "source": [
        "from google.colab import files\n",
        "\n",
        "files.upload()"
      ],
      "execution_count": null,
      "outputs": [
        {
          "output_type": "display_data",
          "data": {
            "text/html": [
              "\n",
              "     <input type=\"file\" id=\"files-4e5e92d0-8067-4744-84a9-12566a1f9a41\" name=\"files[]\" multiple disabled\n",
              "        style=\"border:none\" />\n",
              "     <output id=\"result-4e5e92d0-8067-4744-84a9-12566a1f9a41\">\n",
              "      Upload widget is only available when the cell has been executed in the\n",
              "      current browser session. Please rerun this cell to enable.\n",
              "      </output>\n",
              "      <script src=\"/nbextensions/google.colab/files.js\"></script> "
            ],
            "text/plain": [
              "<IPython.core.display.HTML object>"
            ]
          },
          "metadata": {
            "tags": []
          }
        },
        {
          "output_type": "stream",
          "text": [
            "Saving kaggle.json to kaggle (1).json\n"
          ],
          "name": "stdout"
        },
        {
          "output_type": "execute_result",
          "data": {
            "text/plain": [
              "{'kaggle.json': b'{\"username\":\"carleider32\",\"key\":\"985ac65a3d590a561ce195702ae31378\"}'}"
            ]
          },
          "metadata": {
            "tags": []
          },
          "execution_count": 2
        }
      ]
    },
    {
      "cell_type": "code",
      "metadata": {
        "id": "WvjJozK4qKlQ",
        "colab_type": "code",
        "colab": {}
      },
      "source": [
        "! mkdir ~/.kaggle"
      ],
      "execution_count": null,
      "outputs": []
    },
    {
      "cell_type": "code",
      "metadata": {
        "id": "HQ-2lyREqSYl",
        "colab_type": "code",
        "colab": {}
      },
      "source": [
        "! cp kaggle.json ~/.kaggle/"
      ],
      "execution_count": null,
      "outputs": []
    },
    {
      "cell_type": "code",
      "metadata": {
        "id": "t9OW9zAhqlQ-",
        "colab_type": "code",
        "colab": {}
      },
      "source": [
        "! chmod 600 ~/.kaggle/kaggle.json"
      ],
      "execution_count": null,
      "outputs": []
    },
    {
      "cell_type": "code",
      "metadata": {
        "id": "hnmopDhmquqW",
        "colab_type": "code",
        "colab": {
          "base_uri": "https://localhost:8080/",
          "height": 408
        },
        "outputId": "c4e43cc7-2b83-4cfa-ed90-0462f4476406"
      },
      "source": [
        "! kaggle datasets list"
      ],
      "execution_count": null,
      "outputs": [
        {
          "output_type": "stream",
          "text": [
            "Warning: Looks like you're using an outdated API Version, please consider updating (server 1.5.6 / client 1.5.4)\n",
            "ref                                                         title                                                size  lastUpdated          downloadCount  \n",
            "----------------------------------------------------------  --------------------------------------------------  -----  -------------------  -------------  \n",
            "allen-institute-for-ai/CORD-19-research-challenge           COVID-19 Open Research Dataset Challenge (CORD-19)    3GB  2020-06-23 00:53:41            994  \n",
            "roche-data-science-coalition/uncover                        UNCOVER COVID-19 Challenge                          179MB  2020-05-21 18:57:53           4279  \n",
            "madeleineferguson/farmers-markets-in-the-united-states      Farmers Markets in the United States                816KB  2020-06-10 16:41:46            240  \n",
            "promptcloud/jobs-on-naukricom                               Jobs On Naukri.com                                    3MB  2020-06-15 10:51:07            245  \n",
            "josehenriqueroveda/fertilizers-by-product-fao               Fertilizers by Product FAO                            1MB  2020-06-16 13:01:07            142  \n",
            "yeayates21/garage-detection-unofficial-ssl-challenge        Garage Detection Unofficial SSL Challenge            33MB  2020-06-18 14:00:08             21  \n",
            "rohan0301/unsupervised-learning-on-country-data             Unsupervised Learning on Country Data                 5KB  2020-06-17 07:45:45            221  \n",
            "mikahama/the-best-sarcasm-annotated-dataset-in-spanish      The Best Sarcasm Annotated Dataset in Spanish        26KB  2020-06-21 16:50:44             16  \n",
            "shubh0799/churn-modelling                                   Churn Modelling                                     262KB  2020-06-20 17:33:28            141  \n",
            "jessemostipak/caribou-location-tracking                     Caribou Location Tracking                             6MB  2020-06-22 21:44:58             31  \n",
            "benroshan/factors-affecting-campus-placement                Campus Recruitment                                    5KB  2020-04-11 11:09:02           8996  \n",
            "bobbyscience/league-of-legends-diamond-ranked-games-10-min  League of Legends Diamond Ranked Games (10 min)     539KB  2020-04-13 13:53:02           3780  \n",
            "fireballbyedimyrnmom/us-counties-covid-19-dataset           US counties COVID 19 dataset                          2MB  2020-06-25 13:17:44             20  \n",
            "divyansh22/flight-delay-prediction                          January Flight Delay Prediction                      23MB  2020-04-14 13:15:41           3084  \n",
            "clmentbisaillon/fake-and-real-news-dataset                  Fake and real news dataset                           41MB  2020-03-26 18:51:15           7754  \n",
            "ikiulian/global-hospital-beds-capacity-for-covid19          Global Hospital Beds Capacity (for covid-19)        284KB  2020-04-26 09:39:35           1860  \n",
            "praveengovi/coronahack-chest-xraydataset                    CoronaHack -Chest X-Ray-Dataset                       1GB  2020-03-20 01:26:40           3964  \n",
            "bappekim/air-pollution-in-seoul                             Air Pollution in Seoul                               20MB  2020-04-03 16:33:49           3930  \n",
            "kimjihoo/coronavirusdataset                                 Data Science for COVID-19 (DS4C)                      6MB  2020-06-01 13:36:23           4607  \n",
            "sudalairajkumar/novel-corona-virus-2019-dataset             Novel Corona Virus 2019 Dataset                       2MB  2020-06-23 06:01:02           1237  \n"
          ],
          "name": "stdout"
        }
      ]
    },
    {
      "cell_type": "code",
      "metadata": {
        "id": "cvUd_a3Uq1JO",
        "colab_type": "code",
        "colab": {
          "base_uri": "https://localhost:8080/",
          "height": 68
        },
        "outputId": "15a71097-d97f-4db1-8b96-30dc45f94634"
      },
      "source": [
        "! kaggle datasets download -d mwallerphunware/imbd-movie-reviews-for-binary-sentiment-analysis"
      ],
      "execution_count": null,
      "outputs": [
        {
          "output_type": "stream",
          "text": [
            "Downloading imbd-movie-reviews-for-binary-sentiment-analysis.zip to /content\n",
            " 39% 5.00M/12.9M [00:00<00:01, 5.55MB/s]\n",
            "100% 12.9M/12.9M [00:01<00:00, 13.3MB/s]\n"
          ],
          "name": "stdout"
        }
      ]
    },
    {
      "cell_type": "code",
      "metadata": {
        "id": "oSN4ME2GsEP3",
        "colab_type": "code",
        "colab": {
          "base_uri": "https://localhost:8080/",
          "height": 51
        },
        "outputId": "bdf600c1-cc64-4eda-f69e-bd5e95ef1122"
      },
      "source": [
        "! unzip imbd-movie-reviews-for-binary-sentiment-analysis.zip"
      ],
      "execution_count": null,
      "outputs": [
        {
          "output_type": "stream",
          "text": [
            "Archive:  imbd-movie-reviews-for-binary-sentiment-analysis.zip\n",
            "  inflating: MovieReviewTrainingDatabase.csv  \n"
          ],
          "name": "stdout"
        }
      ]
    },
    {
      "cell_type": "markdown",
      "metadata": {
        "id": "SGRWeuJn4Gtx",
        "colab_type": "text"
      },
      "source": [
        "# Inicio"
      ]
    },
    {
      "cell_type": "code",
      "metadata": {
        "id": "VOhJ1VQsi2YN",
        "colab_type": "code",
        "colab": {
          "base_uri": "https://localhost:8080/",
          "height": 68
        },
        "outputId": "18e20823-59e3-461c-cfaf-73a5c8a4c3a3"
      },
      "source": [
        "import numpy as np\n",
        "import pandas as pd\n",
        "import seaborn as sns\n",
        "import matplotlib.pyplot as plt\n",
        "import nltk\n",
        "from sklearn.feature_extraction.text import CountVectorizer\n",
        "from sklearn.feature_extraction.text import TfidfVectorizer\n",
        "from sklearn.preprocessing import LabelBinarizer\n",
        "from nltk.corpus import stopwords\n",
        "from nltk.stem.porter import PorterStemmer\n",
        "from wordcloud import WordCloud,STOPWORDS\n",
        "from nltk.stem import WordNetLemmatizer\n",
        "from nltk.tokenize import word_tokenize,sent_tokenize\n",
        "from bs4 import BeautifulSoup\n",
        "import spacy\n",
        "import re,string,unicodedata\n",
        "from nltk.tokenize.toktok import ToktokTokenizer\n",
        "from nltk.stem import LancasterStemmer,WordNetLemmatizer\n",
        "from sklearn.linear_model import LogisticRegression,SGDClassifier\n",
        "from sklearn.naive_bayes import MultinomialNB\n",
        "from sklearn.svm import SVC\n",
        "from textblob import TextBlob\n",
        "from textblob import Word\n",
        "from sklearn.metrics import classification_report,confusion_matrix,accuracy_score\n",
        "from keras.preprocessing.text import Tokenizer\n",
        "\n",
        "\n",
        "from tensorflow.compat.v1.nn import rnn_cell\n",
        "from tensorflow import keras\n",
        "from tensorflow.keras.layers import *\n",
        "from tensorflow.keras.datasets import imdb\n",
        "from tensorflow.keras.preprocessing.sequence import pad_sequences\n",
        "import tensorflow as tf"
      ],
      "execution_count": 1,
      "outputs": [
        {
          "output_type": "stream",
          "text": [
            "/usr/local/lib/python3.6/dist-packages/statsmodels/tools/_testing.py:19: FutureWarning: pandas.util.testing is deprecated. Use the functions in the public API at pandas.testing instead.\n",
            "  import pandas.util.testing as tm\n",
            "Using TensorFlow backend.\n"
          ],
          "name": "stderr"
        }
      ]
    },
    {
      "cell_type": "code",
      "metadata": {
        "id": "aBGjLJpkL4QA",
        "colab_type": "code",
        "colab": {}
      },
      "source": [
        "%tensorflow_version 2.x"
      ],
      "execution_count": 14,
      "outputs": []
    },
    {
      "cell_type": "code",
      "metadata": {
        "id": "1h97WwY3sK4O",
        "colab_type": "code",
        "colab": {
          "base_uri": "https://localhost:8080/",
          "height": 34
        },
        "outputId": "9bd47383-8b39-49e4-a3cf-20c02422cbe8"
      },
      "source": [
        "from csv import reader\n",
        "import pandas as pd\n",
        "data = pd.read_csv('/content/drive/My Drive/Redes Neuronales Avanzadas/IMDB Dataset.csv', sep='\\t')\n",
        "print(type(data))\n",
        "\n",
        "imdb = np.asarray(data)\n",
        "\n",
        "renglon = str(imdb[3])\n",
        "length =len(renglon)\n",
        "clase = renglon[-10:-2]\n",
        "#print(renglon[2:-12])\n",
        "#print(clase)\n",
        "lista = []\n",
        "for i in range(0,50000):\n",
        "  renglon = str(imdb[i])\n",
        "  clase = renglon[-10:-2]\n",
        "  texto = renglon[2:-12]\n",
        "  lista.append([clase,texto])\n",
        "  #print(clase,texto)\n",
        "\n",
        "\n",
        "#d = pd.DataFrame({'id': data['id'], 'sentiment': p[:,0]})"
      ],
      "execution_count": 2,
      "outputs": [
        {
          "output_type": "stream",
          "text": [
            "<class 'pandas.core.frame.DataFrame'>\n"
          ],
          "name": "stdout"
        }
      ]
    },
    {
      "cell_type": "code",
      "metadata": {
        "id": "02iCZ9GtxdC5",
        "colab_type": "code",
        "colab": {
          "base_uri": "https://localhost:8080/",
          "height": 51
        },
        "outputId": "7b757ba5-e196-4a24-9c5c-240f9fbb6e95"
      },
      "source": [
        "newlist = np.asarray(lista)\n",
        "print(newlist.shape)\n",
        "print(newlist[0][0])"
      ],
      "execution_count": 3,
      "outputs": [
        {
          "output_type": "stream",
          "text": [
            "(50000, 2)\n",
            "positive\n"
          ],
          "name": "stdout"
        }
      ]
    },
    {
      "cell_type": "code",
      "metadata": {
        "id": "ZmmKPhDAyqbp",
        "colab_type": "code",
        "colab": {}
      },
      "source": [
        "for i in range(0,50000):\n",
        "  clase = newlist[i][0]\n",
        "  if clase=='positive':\n",
        "    newlist[i][0] = 0\n",
        "  if clase=='negative':\n",
        "    newlist[i][0] = 1"
      ],
      "execution_count": 4,
      "outputs": []
    },
    {
      "cell_type": "code",
      "metadata": {
        "id": "bU9S6ofHzbsw",
        "colab_type": "code",
        "colab": {}
      },
      "source": [
        "#Removing the html strips\n",
        "def strip_html(text):\n",
        "    soup = BeautifulSoup(text, \"html.parser\")\n",
        "    return soup.get_text()\n",
        "\n",
        "#Removing the square brackets\n",
        "def remove_between_square_brackets(text):\n",
        "    return re.sub('\\[[^]]*\\]', '', text)\n",
        "\n",
        "#Removing the noisy text\n",
        "def denoise_text(text):\n",
        "    text = strip_html(text)\n",
        "    text = remove_between_square_brackets(text)\n",
        "    return text\n",
        "def remove_special_characters(text, remove_digits=True):\n",
        "    pattern=r'[^a-zA-z0-9\\s]'\n",
        "    text=re.sub(pattern,'',text)\n",
        "    return text\n",
        "#Apply function on review column\n",
        "for i in range(0,50000):\n",
        "  newlist[i][1] = denoise_text(newlist[i][1])\n",
        "  newlist[i][1] = remove_special_characters(newlist[i][1])"
      ],
      "execution_count": 5,
      "outputs": []
    },
    {
      "cell_type": "code",
      "metadata": {
        "id": "3pzg0QT82zop",
        "colab_type": "code",
        "colab": {
          "base_uri": "https://localhost:8080/",
          "height": 88
        },
        "outputId": "748eae71-c972-48fb-df82-5d1e5039a26a"
      },
      "source": [
        "newlist[1]"
      ],
      "execution_count": 6,
      "outputs": [
        {
          "output_type": "execute_result",
          "data": {
            "text/plain": [
              "array(['0',\n",
              "       'A wonderful little production The filming technique is very unassuming very oldtimeBBC fashion and gives a comforting and sometimes discomforting sense of realism to the entire piece The actors are extremely well chosen Michael Sheen not only has got all the polari but he has all the voices down pat too You can truly see the seamless editing guided by the references to Williams\\\\ diary entries not only is it well worth the watching but it is a terrificly written and performed piece A masterful production about one of the great master\\\\s of comedy and his life The realism really comes home with the little things the fantasy of the guard which rather than use the traditional \\\\dream\\\\ techniques remains solid then disappears It plays on our knowledge and our senses particularly with the scenes concerning Orton and Halliwell and the sets particularly of their flat with Halliwell\\\\s murals decorating every surface are terribly well done'],\n",
              "      dtype='<U13737')"
            ]
          },
          "metadata": {
            "tags": []
          },
          "execution_count": 6
        }
      ]
    },
    {
      "cell_type": "code",
      "metadata": {
        "id": "wjnHZwGJioXO",
        "colab_type": "code",
        "colab": {}
      },
      "source": [
        "X = []\n",
        "y = []"
      ],
      "execution_count": 7,
      "outputs": []
    },
    {
      "cell_type": "code",
      "metadata": {
        "id": "aXIc9_0qylCz",
        "colab_type": "code",
        "colab": {}
      },
      "source": [
        "for label, features in newlist:\n",
        "    X.append(features)\n",
        "    y.append(label)\n",
        "#X = np.array(X) #3 VALUES"
      ],
      "execution_count": 8,
      "outputs": []
    },
    {
      "cell_type": "code",
      "metadata": {
        "id": "0HKBNjJr94xE",
        "colab_type": "code",
        "colab": {
          "base_uri": "https://localhost:8080/",
          "height": 71
        },
        "outputId": "bd562df9-25e1-4b64-b786-206a31929d07"
      },
      "source": [
        "NewX = np.asarray(X).reshape(50000,1)\n",
        "NewY = np.asarray(y).reshape(50000,1)\n",
        "print(NewX[1])\n",
        "print(NewY.shape)"
      ],
      "execution_count": 9,
      "outputs": [
        {
          "output_type": "stream",
          "text": [
            "['A wonderful little production The filming technique is very unassuming very oldtimeBBC fashion and gives a comforting and sometimes discomforting sense of realism to the entire piece The actors are extremely well chosen Michael Sheen not only has got all the polari but he has all the voices down pat too You can truly see the seamless editing guided by the references to Williams\\\\ diary entries not only is it well worth the watching but it is a terrificly written and performed piece A masterful production about one of the great master\\\\s of comedy and his life The realism really comes home with the little things the fantasy of the guard which rather than use the traditional \\\\dream\\\\ techniques remains solid then disappears It plays on our knowledge and our senses particularly with the scenes concerning Orton and Halliwell and the sets particularly of their flat with Halliwell\\\\s murals decorating every surface are terribly well done']\n",
            "(50000, 1)\n"
          ],
          "name": "stdout"
        }
      ]
    },
    {
      "cell_type": "code",
      "metadata": {
        "id": "3C8GVK2T_ijV",
        "colab_type": "code",
        "colab": {}
      },
      "source": [
        "from gensim.models import Word2Vec"
      ],
      "execution_count": 10,
      "outputs": []
    },
    {
      "cell_type": "code",
      "metadata": {
        "id": "m6UFCoQvye6l",
        "colab_type": "code",
        "colab": {
          "base_uri": "https://localhost:8080/",
          "height": 258
        },
        "outputId": "42dd89bc-273e-4dbb-a5c1-d6203ca1bfe4"
      },
      "source": [
        "# train model\n",
        "model = Word2Vec(NewX, min_count=1)\n",
        "# summarize the loaded model\n",
        "print(model)\n",
        "# summarize vocabulary\n",
        "words = list(model.wv.vocab)\n",
        "print(words)\n",
        "# access vector for one word\n",
        "print(model)\n",
        "# save model\n",
        "model.save('model.bin')\n",
        "# load model\n",
        "new_model = Word2Vec.load('model.bin')\n",
        "print(new_model)"
      ],
      "execution_count": 11,
      "outputs": [
        {
          "output_type": "stream",
          "text": [
            "IOPub data rate exceeded.\n",
            "The notebook server will temporarily stop sending output\n",
            "to the client in order to avoid crashing it.\n",
            "To change this limit, set the config variable\n",
            "`--NotebookApp.iopub_data_rate_limit`.\n",
            "\n",
            "Current values:\n",
            "NotebookApp.iopub_data_rate_limit=1000000.0 (bytes/sec)\n",
            "NotebookApp.rate_limit_window=3.0 (secs)\n",
            "\n",
            "/usr/local/lib/python3.6/dist-packages/smart_open/smart_open_lib.py:253: UserWarning: This function is deprecated, use smart_open.open instead. See the migration notes for details: https://github.com/RaRe-Technologies/smart_open/blob/master/README.rst#migrating-to-the-new-open-function\n",
            "  'See the migration notes for details: %s' % _MIGRATION_NOTES_URL\n"
          ],
          "name": "stderr"
        },
        {
          "output_type": "stream",
          "text": [
            "Word2Vec(vocab=49582, size=100, alpha=0.025)\n"
          ],
          "name": "stdout"
        }
      ]
    },
    {
      "cell_type": "code",
      "metadata": {
        "id": "oKSQnqYksWV3",
        "colab_type": "code",
        "colab": {
          "base_uri": "https://localhost:8080/",
          "height": 34
        },
        "outputId": "b2293bb6-bba2-4e39-ef3c-4fb8b5d74816"
      },
      "source": [
        "model.wv.vectors.shape"
      ],
      "execution_count": 12,
      "outputs": [
        {
          "output_type": "execute_result",
          "data": {
            "text/plain": [
              "(49582, 100)"
            ]
          },
          "metadata": {
            "tags": []
          },
          "execution_count": 12
        }
      ]
    },
    {
      "cell_type": "code",
      "metadata": {
        "id": "5eAlUdttxm2y",
        "colab_type": "code",
        "colab": {}
      },
      "source": [
        "model.wv.vectors[0]"
      ],
      "execution_count": null,
      "outputs": []
    },
    {
      "cell_type": "code",
      "metadata": {
        "id": "vflnl_B_2oHJ",
        "colab_type": "code",
        "colab": {}
      },
      "source": [
        ""
      ],
      "execution_count": null,
      "outputs": []
    },
    {
      "cell_type": "code",
      "metadata": {
        "id": "UwIj3A-Js2KI",
        "colab_type": "code",
        "colab": {}
      },
      "source": [
        "X = model.wv.vectors"
      ],
      "execution_count": 15,
      "outputs": []
    },
    {
      "cell_type": "code",
      "metadata": {
        "id": "XRESrE_JtxcL",
        "colab_type": "code",
        "colab": {}
      },
      "source": [
        "def data_genertor(data, window , distance=0):\n",
        "    x=[]\n",
        "    y=[]\n",
        "    for i in range(len(data)-window-distance):\n",
        "        x.append(data[i:i+window])\n",
        "        y.append(data[i+window+distance])\n",
        "    return np.array(x),np.array(y)"
      ],
      "execution_count": 23,
      "outputs": []
    },
    {
      "cell_type": "code",
      "metadata": {
        "id": "o4xKUfwltxe7",
        "colab_type": "code",
        "colab": {}
      },
      "source": [
        "train_x,train_y=data_genertor(model.wv.vectors[0:45000], 10 , 0)\n",
        "#test_x,test_y=data_genertor(model.wv.vectors[0:45000], 10 , 0)"
      ],
      "execution_count": 26,
      "outputs": []
    },
    {
      "cell_type": "code",
      "metadata": {
        "id": "-kiPlQqbtxhd",
        "colab_type": "code",
        "colab": {
          "base_uri": "https://localhost:8080/",
          "height": 51
        },
        "outputId": "283583e5-439e-4cdf-dda6-cec17c0ab6c0"
      },
      "source": [
        "print(train_x.shape)\n",
        "print(train_y.shape)"
      ],
      "execution_count": 40,
      "outputs": [
        {
          "output_type": "stream",
          "text": [
            "(49572, 10, 100)\n",
            "(49572, 100)\n"
          ],
          "name": "stdout"
        }
      ]
    },
    {
      "cell_type": "code",
      "metadata": {
        "id": "AVO-GR-WtxtJ",
        "colab_type": "code",
        "colab": {
          "base_uri": "https://localhost:8080/",
          "height": 187
        },
        "outputId": "535e04cc-facf-4562-957a-84a0b284ec79"
      },
      "source": [
        "RNN=tf.keras.Sequential()\n",
        "RNN.add(tf.keras.layers.LSTM(units=1,input_shape=(49582,100),activation=\"relu\"))\n",
        "RNN.summary()"
      ],
      "execution_count": 27,
      "outputs": [
        {
          "output_type": "stream",
          "text": [
            "Model: \"sequential_1\"\n",
            "_________________________________________________________________\n",
            "Layer (type)                 Output Shape              Param #   \n",
            "=================================================================\n",
            "lstm_1 (LSTM)                (None, 1)                 408       \n",
            "=================================================================\n",
            "Total params: 408\n",
            "Trainable params: 408\n",
            "Non-trainable params: 0\n",
            "_________________________________________________________________\n"
          ],
          "name": "stdout"
        }
      ]
    },
    {
      "cell_type": "code",
      "metadata": {
        "id": "Cyf-bqhetxz0",
        "colab_type": "code",
        "colab": {}
      },
      "source": [
        "RNN.compile(optimizer='adam', loss='mean_squared_error')"
      ],
      "execution_count": 28,
      "outputs": []
    },
    {
      "cell_type": "code",
      "metadata": {
        "id": "SpqSQzJ7tx85",
        "colab_type": "code",
        "colab": {
          "base_uri": "https://localhost:8080/",
          "height": 1000
        },
        "outputId": "edb68a27-e1a6-4c51-dc5f-c1a1e7b0eecf"
      },
      "source": [
        "#  input shape must be [samples, time steps, features]\n",
        "#train_x = np.reshape(train_x, (train_x.shape[0], train_x.shape[1],1))\n",
        "#test_x = np.reshape(test_x, (test_x.shape[0], test_x.shape[1],1))\n",
        "\n",
        "RNN.fit(train_x,train_y,\n",
        "                epochs=100,\n",
        "                batch_size=100,\n",
        "                shuffle=False\n",
        "                )"
      ],
      "execution_count": 29,
      "outputs": [
        {
          "output_type": "stream",
          "text": [
            "Epoch 1/100\n",
            "WARNING:tensorflow:Model was constructed with shape (None, 49582, 100) for input Tensor(\"lstm_1_input:0\", shape=(None, 49582, 100), dtype=float32), but it was called on an input with incompatible shape (None, 10, 100).\n",
            "WARNING:tensorflow:Model was constructed with shape (None, 49582, 100) for input Tensor(\"lstm_1_input:0\", shape=(None, 49582, 100), dtype=float32), but it was called on an input with incompatible shape (None, 10, 100).\n",
            "450/450 [==============================] - 2s 4ms/step - loss: 8.3466e-06\n",
            "Epoch 2/100\n",
            "450/450 [==============================] - 2s 4ms/step - loss: 8.3309e-06\n",
            "Epoch 3/100\n",
            "450/450 [==============================] - 2s 4ms/step - loss: 8.3308e-06\n",
            "Epoch 4/100\n",
            "450/450 [==============================] - 2s 4ms/step - loss: 8.3307e-06\n",
            "Epoch 5/100\n",
            "450/450 [==============================] - 2s 4ms/step - loss: 8.3307e-06\n",
            "Epoch 6/100\n",
            "450/450 [==============================] - 2s 4ms/step - loss: 8.3307e-06\n",
            "Epoch 7/100\n",
            "450/450 [==============================] - 2s 4ms/step - loss: 8.3307e-06\n",
            "Epoch 8/100\n",
            "450/450 [==============================] - 2s 4ms/step - loss: 8.3307e-06\n",
            "Epoch 9/100\n",
            "450/450 [==============================] - 2s 4ms/step - loss: 8.3307e-06\n",
            "Epoch 10/100\n",
            "450/450 [==============================] - 2s 4ms/step - loss: 8.3307e-06\n",
            "Epoch 11/100\n",
            "450/450 [==============================] - 2s 4ms/step - loss: 8.3307e-06\n",
            "Epoch 12/100\n",
            "450/450 [==============================] - 2s 4ms/step - loss: 8.3307e-06\n",
            "Epoch 13/100\n",
            "450/450 [==============================] - 2s 4ms/step - loss: 8.3307e-06\n",
            "Epoch 14/100\n",
            "450/450 [==============================] - 2s 4ms/step - loss: 8.3307e-06\n",
            "Epoch 15/100\n",
            "450/450 [==============================] - 2s 4ms/step - loss: 8.3307e-06\n",
            "Epoch 16/100\n",
            "450/450 [==============================] - 2s 4ms/step - loss: 8.3307e-06\n",
            "Epoch 17/100\n",
            "450/450 [==============================] - 2s 4ms/step - loss: 8.3307e-06\n",
            "Epoch 18/100\n",
            "450/450 [==============================] - 2s 4ms/step - loss: 8.3307e-06\n",
            "Epoch 19/100\n",
            "450/450 [==============================] - 2s 4ms/step - loss: 8.3307e-06\n",
            "Epoch 20/100\n",
            "450/450 [==============================] - 2s 4ms/step - loss: 8.3307e-06\n",
            "Epoch 21/100\n",
            "450/450 [==============================] - 2s 4ms/step - loss: 8.3307e-06\n",
            "Epoch 22/100\n",
            "450/450 [==============================] - 2s 4ms/step - loss: 8.3307e-06\n",
            "Epoch 23/100\n",
            "450/450 [==============================] - 2s 4ms/step - loss: 8.3307e-06\n",
            "Epoch 24/100\n",
            "450/450 [==============================] - 2s 4ms/step - loss: 8.3307e-06\n",
            "Epoch 25/100\n",
            "450/450 [==============================] - 2s 4ms/step - loss: 8.3307e-06\n",
            "Epoch 26/100\n",
            "450/450 [==============================] - 2s 4ms/step - loss: 8.3307e-06\n",
            "Epoch 27/100\n",
            "450/450 [==============================] - 2s 4ms/step - loss: 8.3307e-06\n",
            "Epoch 28/100\n",
            "450/450 [==============================] - 2s 4ms/step - loss: 8.3307e-06\n",
            "Epoch 29/100\n",
            "450/450 [==============================] - 2s 4ms/step - loss: 8.3307e-06\n",
            "Epoch 30/100\n",
            "450/450 [==============================] - 2s 4ms/step - loss: 8.3307e-06\n",
            "Epoch 31/100\n",
            "450/450 [==============================] - 2s 4ms/step - loss: 8.3307e-06\n",
            "Epoch 32/100\n",
            "450/450 [==============================] - 2s 4ms/step - loss: 8.3307e-06\n",
            "Epoch 33/100\n",
            "450/450 [==============================] - 2s 4ms/step - loss: 8.3307e-06\n",
            "Epoch 34/100\n",
            "450/450 [==============================] - 2s 4ms/step - loss: 8.3307e-06\n",
            "Epoch 35/100\n",
            "450/450 [==============================] - 2s 4ms/step - loss: 8.3307e-06\n",
            "Epoch 36/100\n",
            "450/450 [==============================] - 2s 4ms/step - loss: 8.3307e-06\n",
            "Epoch 37/100\n",
            "450/450 [==============================] - 2s 4ms/step - loss: 8.3307e-06\n",
            "Epoch 38/100\n",
            "450/450 [==============================] - 2s 4ms/step - loss: 8.3307e-06\n",
            "Epoch 39/100\n",
            "450/450 [==============================] - 2s 4ms/step - loss: 8.3307e-06\n",
            "Epoch 40/100\n",
            "450/450 [==============================] - 2s 4ms/step - loss: 8.3307e-06\n",
            "Epoch 41/100\n",
            "450/450 [==============================] - 2s 4ms/step - loss: 8.3307e-06\n",
            "Epoch 42/100\n",
            "450/450 [==============================] - 2s 4ms/step - loss: 8.3307e-06\n",
            "Epoch 43/100\n",
            "450/450 [==============================] - 2s 4ms/step - loss: 8.3307e-06\n",
            "Epoch 44/100\n",
            "450/450 [==============================] - 2s 4ms/step - loss: 8.3307e-06\n",
            "Epoch 45/100\n",
            "450/450 [==============================] - 2s 4ms/step - loss: 8.3307e-06\n",
            "Epoch 46/100\n",
            "450/450 [==============================] - 2s 4ms/step - loss: 8.3307e-06\n",
            "Epoch 47/100\n",
            "450/450 [==============================] - 2s 4ms/step - loss: 8.3307e-06\n",
            "Epoch 48/100\n",
            "450/450 [==============================] - 2s 4ms/step - loss: 8.3307e-06\n",
            "Epoch 49/100\n",
            "450/450 [==============================] - 2s 4ms/step - loss: 8.3307e-06\n",
            "Epoch 50/100\n",
            "450/450 [==============================] - 2s 4ms/step - loss: 8.3307e-06\n",
            "Epoch 51/100\n",
            "450/450 [==============================] - 2s 4ms/step - loss: 8.3307e-06\n",
            "Epoch 52/100\n",
            "450/450 [==============================] - 2s 4ms/step - loss: 8.3307e-06\n",
            "Epoch 53/100\n",
            "450/450 [==============================] - 2s 4ms/step - loss: 8.3307e-06\n",
            "Epoch 54/100\n",
            "450/450 [==============================] - 2s 4ms/step - loss: 8.3307e-06\n",
            "Epoch 55/100\n",
            "450/450 [==============================] - 2s 4ms/step - loss: 8.3307e-06\n",
            "Epoch 56/100\n",
            "450/450 [==============================] - 2s 4ms/step - loss: 8.3307e-06\n",
            "Epoch 57/100\n",
            "450/450 [==============================] - 2s 4ms/step - loss: 8.3307e-06\n",
            "Epoch 58/100\n",
            "450/450 [==============================] - 2s 4ms/step - loss: 8.3307e-06\n",
            "Epoch 59/100\n",
            "450/450 [==============================] - 2s 4ms/step - loss: 8.3307e-06\n",
            "Epoch 60/100\n",
            "450/450 [==============================] - 2s 4ms/step - loss: 8.3307e-06\n",
            "Epoch 61/100\n",
            "450/450 [==============================] - 2s 4ms/step - loss: 8.3307e-06\n",
            "Epoch 62/100\n",
            "450/450 [==============================] - 2s 4ms/step - loss: 8.3307e-06\n",
            "Epoch 63/100\n",
            "450/450 [==============================] - 2s 4ms/step - loss: 8.3307e-06\n",
            "Epoch 64/100\n",
            "450/450 [==============================] - 2s 4ms/step - loss: 8.3307e-06\n",
            "Epoch 65/100\n",
            "450/450 [==============================] - 2s 4ms/step - loss: 8.3307e-06\n",
            "Epoch 66/100\n",
            "450/450 [==============================] - 2s 4ms/step - loss: 8.3307e-06\n",
            "Epoch 67/100\n",
            "450/450 [==============================] - 2s 4ms/step - loss: 8.3307e-06\n",
            "Epoch 68/100\n",
            "450/450 [==============================] - 2s 4ms/step - loss: 8.3307e-06\n",
            "Epoch 69/100\n",
            "450/450 [==============================] - 2s 4ms/step - loss: 8.3307e-06\n",
            "Epoch 70/100\n",
            "450/450 [==============================] - 2s 4ms/step - loss: 8.3307e-06\n",
            "Epoch 71/100\n",
            "450/450 [==============================] - 2s 4ms/step - loss: 8.3307e-06\n",
            "Epoch 72/100\n",
            "450/450 [==============================] - 2s 4ms/step - loss: 8.3307e-06\n",
            "Epoch 73/100\n",
            "450/450 [==============================] - 2s 4ms/step - loss: 8.3307e-06\n",
            "Epoch 74/100\n",
            "450/450 [==============================] - 2s 4ms/step - loss: 8.3307e-06\n",
            "Epoch 75/100\n",
            "450/450 [==============================] - 2s 4ms/step - loss: 8.3307e-06\n",
            "Epoch 76/100\n",
            "450/450 [==============================] - 2s 4ms/step - loss: 8.3307e-06\n",
            "Epoch 77/100\n",
            "450/450 [==============================] - 2s 4ms/step - loss: 8.3307e-06\n",
            "Epoch 78/100\n",
            "450/450 [==============================] - 2s 4ms/step - loss: 8.3307e-06\n",
            "Epoch 79/100\n",
            "450/450 [==============================] - 2s 4ms/step - loss: 8.3307e-06\n",
            "Epoch 80/100\n",
            "450/450 [==============================] - 2s 4ms/step - loss: 8.3307e-06\n",
            "Epoch 81/100\n",
            "450/450 [==============================] - 2s 4ms/step - loss: 8.3307e-06\n",
            "Epoch 82/100\n",
            "450/450 [==============================] - 2s 4ms/step - loss: 8.3307e-06\n",
            "Epoch 83/100\n",
            "450/450 [==============================] - 2s 4ms/step - loss: 8.3307e-06\n",
            "Epoch 84/100\n",
            "450/450 [==============================] - 2s 4ms/step - loss: 8.3307e-06\n",
            "Epoch 85/100\n",
            "450/450 [==============================] - 2s 4ms/step - loss: 8.3307e-06\n",
            "Epoch 86/100\n",
            "450/450 [==============================] - 2s 4ms/step - loss: 8.3307e-06\n",
            "Epoch 87/100\n",
            "450/450 [==============================] - 2s 4ms/step - loss: 8.3307e-06\n",
            "Epoch 88/100\n",
            "450/450 [==============================] - 2s 4ms/step - loss: 8.3307e-06\n",
            "Epoch 89/100\n",
            "450/450 [==============================] - 2s 4ms/step - loss: 8.3307e-06\n",
            "Epoch 90/100\n",
            "450/450 [==============================] - 2s 4ms/step - loss: 8.3307e-06\n",
            "Epoch 91/100\n",
            "450/450 [==============================] - 2s 4ms/step - loss: 8.3307e-06\n",
            "Epoch 92/100\n",
            "450/450 [==============================] - 2s 4ms/step - loss: 8.3307e-06\n",
            "Epoch 93/100\n",
            "450/450 [==============================] - 2s 4ms/step - loss: 8.3307e-06\n",
            "Epoch 94/100\n",
            "450/450 [==============================] - 2s 4ms/step - loss: 8.3307e-06\n",
            "Epoch 95/100\n",
            "450/450 [==============================] - 2s 4ms/step - loss: 8.3307e-06\n",
            "Epoch 96/100\n",
            "450/450 [==============================] - 2s 4ms/step - loss: 8.3307e-06\n",
            "Epoch 97/100\n",
            "450/450 [==============================] - 2s 4ms/step - loss: 8.3307e-06\n",
            "Epoch 98/100\n",
            "450/450 [==============================] - 2s 4ms/step - loss: 8.3307e-06\n",
            "Epoch 99/100\n",
            "450/450 [==============================] - 2s 5ms/step - loss: 8.3307e-06\n",
            "Epoch 100/100\n",
            "450/450 [==============================] - 2s 5ms/step - loss: 8.3307e-06\n"
          ],
          "name": "stdout"
        },
        {
          "output_type": "execute_result",
          "data": {
            "text/plain": [
              "<tensorflow.python.keras.callbacks.History at 0x7fa6e76bf6a0>"
            ]
          },
          "metadata": {
            "tags": []
          },
          "execution_count": 29
        }
      ]
    },
    {
      "cell_type": "code",
      "metadata": {
        "id": "Fvi4NhPCtyK9",
        "colab_type": "code",
        "colab": {}
      },
      "source": [
        "test_x,test_y=data_genertor(model.wv.vectors[45000:49572], 10 , 0)"
      ],
      "execution_count": 30,
      "outputs": []
    },
    {
      "cell_type": "code",
      "metadata": {
        "id": "MWxX0_reudSV",
        "colab_type": "code",
        "colab": {
          "base_uri": "https://localhost:8080/",
          "height": 71
        },
        "outputId": "e759a140-7307-4bf1-c087-4ae7e12b2aff"
      },
      "source": [
        "Salidas=RNN.predict(test_x,verbose=True)"
      ],
      "execution_count": 31,
      "outputs": [
        {
          "output_type": "stream",
          "text": [
            "WARNING:tensorflow:Model was constructed with shape (None, 49582, 100) for input Tensor(\"lstm_1_input:0\", shape=(None, 49582, 100), dtype=float32), but it was called on an input with incompatible shape (None, 10, 100).\n",
            "143/143 [==============================] - 0s 1ms/step\n"
          ],
          "name": "stdout"
        }
      ]
    },
    {
      "cell_type": "code",
      "metadata": {
        "id": "bKjjC6VzudVM",
        "colab_type": "code",
        "colab": {}
      },
      "source": [
        ""
      ],
      "execution_count": null,
      "outputs": []
    },
    {
      "cell_type": "markdown",
      "metadata": {
        "id": "pRWyikVb_gTA",
        "colab_type": "text"
      },
      "source": [
        "# Con Keras"
      ]
    },
    {
      "cell_type": "code",
      "metadata": {
        "id": "6Kx0XBQtye9L",
        "colab_type": "code",
        "colab": {}
      },
      "source": [
        "top_words = 5000\n",
        "(X_train, y_train), (X_test, y_test) = imdb.load_data(num_words=top_words)\n"
      ],
      "execution_count": 6,
      "outputs": []
    },
    {
      "cell_type": "code",
      "metadata": {
        "id": "ZDzv1rFUQpEC",
        "colab_type": "code",
        "colab": {}
      },
      "source": [
        "y_train = keras.utils.to_categorical( y_train , num_classes=2 ) \n",
        "y_test = keras.utils.to_categorical( y_test , num_classes=2 ) "
      ],
      "execution_count": 7,
      "outputs": []
    },
    {
      "cell_type": "code",
      "metadata": {
        "id": "ya-4fAjfQqOH",
        "colab_type": "code",
        "colab": {}
      },
      "source": [
        "X_train = pad_sequences( X_train , maxlen=120 , padding='pre' ) \n",
        "X_test = pad_sequences( X_test , maxlen=120 , padding='pre' )"
      ],
      "execution_count": 9,
      "outputs": []
    },
    {
      "cell_type": "code",
      "metadata": {
        "id": "QIxNhxXuye_7",
        "colab_type": "code",
        "colab": {}
      },
      "source": [
        "dropout_rate = 0.3\n",
        "batch_size = 1000\n",
        "activation_func = keras.activations.relu\n",
        "\n",
        "SCHEMA = [\n",
        "\n",
        "    Embedding( 5000 , 10, input_length=120 ),\n",
        "    LSTM( 32 ) ,\n",
        "    Dropout(dropout_rate),\n",
        "    Dense( 32 , activation=activation_func ) ,\n",
        "    Dropout(dropout_rate),\n",
        "    Dense( 2 , activation=keras.activations.softmax )\n",
        "    \n",
        "]\n",
        "\n",
        "model = keras.Sequential(SCHEMA)\n",
        "model.compile(\n",
        "    optimizer=keras.optimizers.Adam() ,\n",
        "    loss=keras.losses.categorical_crossentropy ,\n",
        "    metrics=[ 'accuracy' ]\n",
        ")"
      ],
      "execution_count": 11,
      "outputs": []
    },
    {
      "cell_type": "code",
      "metadata": {
        "id": "2DkqFKcMMH99",
        "colab_type": "code",
        "colab": {
          "base_uri": "https://localhost:8080/",
          "height": 374
        },
        "outputId": "b100efd6-cae2-4534-a65b-91ee21e1b4a2"
      },
      "source": [
        "model.fit(X_train , y_train , batch_size=batch_size , epochs=10 )"
      ],
      "execution_count": 12,
      "outputs": [
        {
          "output_type": "stream",
          "text": [
            "Epoch 1/10\n",
            "25/25 [==============================] - 6s 242ms/step - loss: 0.6918 - accuracy: 0.5341\n",
            "Epoch 2/10\n",
            "25/25 [==============================] - 6s 238ms/step - loss: 0.6041 - accuracy: 0.7197\n",
            "Epoch 3/10\n",
            "25/25 [==============================] - 6s 239ms/step - loss: 0.4141 - accuracy: 0.8267\n",
            "Epoch 4/10\n",
            "25/25 [==============================] - 6s 237ms/step - loss: 0.3112 - accuracy: 0.8760\n",
            "Epoch 5/10\n",
            "25/25 [==============================] - 6s 238ms/step - loss: 0.2675 - accuracy: 0.8970\n",
            "Epoch 6/10\n",
            "25/25 [==============================] - 6s 238ms/step - loss: 0.2443 - accuracy: 0.9093\n",
            "Epoch 7/10\n",
            "25/25 [==============================] - 6s 239ms/step - loss: 0.2290 - accuracy: 0.9180\n",
            "Epoch 8/10\n",
            "25/25 [==============================] - 6s 237ms/step - loss: 0.2207 - accuracy: 0.9224\n",
            "Epoch 9/10\n",
            "25/25 [==============================] - 6s 240ms/step - loss: 0.2094 - accuracy: 0.9290\n",
            "Epoch 10/10\n",
            "25/25 [==============================] - 6s 237ms/step - loss: 0.2012 - accuracy: 0.9328\n"
          ],
          "name": "stdout"
        },
        {
          "output_type": "execute_result",
          "data": {
            "text/plain": [
              "<tensorflow.python.keras.callbacks.History at 0x7f3158d42400>"
            ]
          },
          "metadata": {
            "tags": []
          },
          "execution_count": 12
        }
      ]
    },
    {
      "cell_type": "code",
      "metadata": {
        "id": "WmFyJpQJMIn4",
        "colab_type": "code",
        "colab": {
          "base_uri": "https://localhost:8080/",
          "height": 51
        },
        "outputId": "0d7ea0f6-3930-4323-e85b-4cc02eecf78d"
      },
      "source": [
        "model.evaluate(X_test , y_test )"
      ],
      "execution_count": 13,
      "outputs": [
        {
          "output_type": "stream",
          "text": [
            "782/782 [==============================] - 7s 9ms/step - loss: 0.4110 - accuracy: 0.8445\n"
          ],
          "name": "stdout"
        },
        {
          "output_type": "execute_result",
          "data": {
            "text/plain": [
              "[0.4109703004360199, 0.8445199728012085]"
            ]
          },
          "metadata": {
            "tags": []
          },
          "execution_count": 13
        }
      ]
    }
  ]
}